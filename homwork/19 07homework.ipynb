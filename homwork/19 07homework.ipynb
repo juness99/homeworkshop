{
 "cells": [
  {
   "cell_type": "markdown",
   "metadata": {},
   "source": [
    "- 1.파이썬에서은 객체지향프로그래밍 언어입니다. 파이썬에서 기본적으로 정의된 클래스 5개만 작성해보세요.\n"
   ]
  },
  {
   "cell_type": "markdown",
   "metadata": {},
   "source": [
    "\n",
    "- int\n",
    "\n",
    "- str\n",
    "\n",
    "- complex\n",
    "\n",
    "- bool\n",
    "\n",
    "- float\n"
   ]
  },
  {
   "cell_type": "markdown",
   "metadata": {},
   "source": [
    "2. 아래의 코드에서 x의 데이터타입을 확인하고자 할 때, 기본적으로 type(x) == int로 비교할 수 있다.\n",
    "뿐만 아니라 클래스 – 인스턴스 관계를 활용하여 확인할 수도 있는데, 이 때 사용되는 함수를 작성해보세요.\n"
   ]
  },
  {
   "cell_type": "code",
   "execution_count": 3,
   "metadata": {},
   "outputs": [
    {
     "data": {
      "text/plain": [
       "True"
      ]
     },
     "execution_count": 3,
     "metadata": {},
     "output_type": "execute_result"
    }
   ],
   "source": [
    " isinstance(55555,int)"
   ]
  },
  {
   "cell_type": "markdown",
   "metadata": {},
   "source": [
    "- 우리가 지금껏 문자열, 리스트, 딕셔너리 등을 조작할 때 활용하였던 것은 모두 클래스에 정의된 메소드를\n",
    "활용한 것이다. 예를 들면, 리스트를 정렬할 때 다음과 같이 코드를 작성할 수 있다.\n",
    "이처럼 지금껏 활용했던 문자열, 리스트, 딕셔너리 메소드 중 3가지만 작성해보세요.\n"
   ]
  },
  {
   "cell_type": "code",
   "execution_count": 10,
   "metadata": {},
   "outputs": [
    {
     "name": "stdout",
     "output_type": "stream",
     "text": [
      "[1, 2, 5]\n",
      "FAWEFWAEF\n",
      "fakwhewf\n",
      "Fwehwefwa\n"
     ]
    }
   ],
   "source": [
    "numbers = [5,1,2]\n",
    "numbers.sort()\n",
    "print(numbers)\n",
    "\n",
    "a= \"fawefwaef\".upper()\n",
    "print(a)\n",
    "b= \"FAKWHEWF\".lower()\n",
    "print(b)\n",
    "c= \"fwehWEFWA\".capitalize()\n",
    "print(c)"
   ]
  },
  {
   "cell_type": "markdown",
   "metadata": {},
   "source": [
    "- 각각의 인스턴스들은 데이터 어트리뷰트(data attribute)를 가지고 있다. 다음의 코드는 복소수의 허수부의\n",
    "값을 확인할 수 있으며, 이는 복소수 클래스(complex)면 모두 가지고 있다.\n",
    "변수 num의 실수부를 출력하는 코드를 아래에 작성해보고, 메소드 호출과 차이점을 확인해보자"
   ]
  },
  {
   "cell_type": "code",
   "execution_count": 6,
   "metadata": {},
   "outputs": [
    {
     "data": {
      "text/plain": [
       "1.0"
      ]
     },
     "execution_count": 6,
     "metadata": {},
     "output_type": "execute_result"
    }
   ],
   "source": [
    "num = 1+6j\n",
    "num.real\n",
    "\n",
    "#차이점 ()이 있냐 없냐의 차이"
   ]
  }
 ],
 "metadata": {
  "kernelspec": {
   "display_name": "Python 3",
   "language": "python",
   "name": "python3"
  },
  "language_info": {
   "codemirror_mode": {
    "name": "ipython",
    "version": 3
   },
   "file_extension": ".py",
   "mimetype": "text/x-python",
   "name": "python",
   "nbconvert_exporter": "python",
   "pygments_lexer": "ipython3",
   "version": "3.6.7"
  }
 },
 "nbformat": 4,
 "nbformat_minor": 2
}
