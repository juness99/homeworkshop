{
 "cells": [
  {
   "cell_type": "markdown",
   "metadata": {},
   "source": [
    "- True / False"
   ]
  },
  {
   "cell_type": "markdown",
   "metadata": {},
   "source": [
    "1-1. windows 와 unix 계열 운체제는 CLI(Command Line Interface)\n",
    "에서 같은 명령어 를 사용한다. [    F]\n",
    "\n",
    "1-2. 우리가 사용하는 컴퓨터는 windows 이므로,\n",
    "unix 계열 운체제 명령어를 학습할 필요 가 없다. [  F    ]\n",
    "\n",
    "1-3. CLI 는 결국 컴퓨터를 조작하기 위해 사용하는 것이다. [    T  ]\n",
    "\n",
    "1-4. CLI 를 통해서 바탕화면에 새로운 파이썬파일(.py)을 생성할 수 있다. [   T   ]"
   ]
  },
  {
   "cell_type": "markdown",
   "metadata": {},
   "source": [
    "- 다음 unix 명령어들에 대하여 간략하게 기술하세요."
   ]
  },
  {
   "cell_type": "markdown",
   "metadata": {},
   "source": [
    "2-1. ls\n",
    "\n",
    "파일 또는 폴더의 내용을 출력 하는 명령어이다.\n",
    "\n",
    "2-2. cd\n",
    "\n",
    "위치를 이동할 때 쓰인다.\n",
    " `cd <dir>`  명령어로\n",
    " 위치로 이동할때 쓰인다.\n",
    " \n",
    " `cd ..` 상위 폴더로 이동할 때 쓰인다.\n",
    " \n",
    " `cd ~` 홈 디렉토리로 이동할 때 쓰인다.\n",
    "\n",
    "2-3. mkdir\n",
    "\n",
    "폴더를 생성하기 위한 명령어이다.\n",
    "\n",
    "2-4. touch \n",
    "\n",
    "파일을 생성하기 위한 명령어이다."
   ]
  },
  {
   "cell_type": "markdown",
   "metadata": {},
   "source": [
    "- CLI 와 익숙해지게 되면, Tab 키를 매우 빈번하게 사용하게 됩니다. 그 이유는 무엇일까요? (git bash 를 켜고 cd Desk 까지만 입력 후 탭 키를 눌러 봅시다!)\n",
    "\n"
   ]
  },
  {
   "cell_type": "markdown",
   "metadata": {},
   "source": [
    "tab 키의 경우 입력하기 원하는 폴더나 파일 명을 자동완성할 때 유용하게 쓰인다. 오타방지에 도움이 되기 때문에 자주쓰인다고 할 수 있다.\n",
    "\n",
    "\n",
    "\n",
    "또한 tab 키를 두번 클릭할 경우 목록을 출력해준다."
   ]
  }
 ],
 "metadata": {
  "kernelspec": {
   "display_name": "Python 3",
   "language": "python",
   "name": "python3"
  },
  "language_info": {
   "codemirror_mode": {
    "name": "ipython",
    "version": 3
   },
   "file_extension": ".py",
   "mimetype": "text/x-python",
   "name": "python",
   "nbconvert_exporter": "python",
   "pygments_lexer": "ipython3",
   "version": "3.6.7"
  }
 },
 "nbformat": 4,
 "nbformat_minor": 2
}
