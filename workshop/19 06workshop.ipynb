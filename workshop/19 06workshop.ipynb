{
 "cells": [
  {
   "cell_type": "code",
   "execution_count": 13,
   "metadata": {},
   "outputs": [
    {
     "name": "stdout",
     "output_type": "stream",
     "text": [
      "1<1.4142135623730951<1.5\n",
      "1.25<1.4142135623730951<1.5\n",
      "1.375<1.4142135623730951<1.5\n",
      "1.375<1.4142135623730951<1.4375\n",
      "1.40625<1.4142135623730951<1.4375\n",
      "1.40625<1.4142135623730951<1.421875\n",
      "1.4140625<1.4142135623730951<1.421875\n",
      "1.4140625<1.4142135623730951<1.41796875\n",
      "1.4140625<1.4142135623730951<1.416015625\n",
      "1.4140625<1.4142135623730951<1.4150390625\n",
      "1.4140625<1.4142135623730951<1.41455078125\n",
      "1.4140625<1.4142135623730951<1.414306640625\n",
      "1.4141845703125<1.4142135623730951<1.414306640625\n",
      "1.4141845703125<1.4142135623730951<1.41424560546875\n"
     ]
    },
    {
     "data": {
      "text/plain": [
       "1.41424560546875"
      ]
     },
     "execution_count": 13,
     "metadata": {},
     "output_type": "execute_result"
    }
   ],
   "source": [
    "import math\n",
    "def my_squrt(n):\n",
    "    a=n**0.5\n",
    "    b=n\n",
    "    c=1\n",
    "    while(True):\n",
    "        if ((b+c)/2)>a:\n",
    "            b=(b+c)/2\n",
    "        else:\n",
    "            c=(b+c)/2\n",
    "        print(f\"{c}<{a}<{b}\")\n",
    "        if round(b,4)==round(a,4) or round(b,4)==round(a,4):\n",
    "            return b\n",
    "my_squrt(2)"
   ]
  }
 ],
 "metadata": {
  "kernelspec": {
   "display_name": "Python 3",
   "language": "python",
   "name": "python3"
  },
  "language_info": {
   "codemirror_mode": {
    "name": "ipython",
    "version": 3
   },
   "file_extension": ".py",
   "mimetype": "text/x-python",
   "name": "python",
   "nbconvert_exporter": "python",
   "pygments_lexer": "ipython3",
   "version": "3.6.7"
  }
 },
 "nbformat": 4,
 "nbformat_minor": 2
}
