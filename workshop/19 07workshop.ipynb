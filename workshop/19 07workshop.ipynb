{
 "cells": [
  {
   "cell_type": "code",
   "execution_count": 37,
   "metadata": {},
   "outputs": [
    {
     "name": "stdout",
     "output_type": "stream",
     "text": [
      "넓이 : 28.259999999999998\n",
      "둘레 : 18.84\n",
      "현재위치 : (2, 4)\n"
     ]
    }
   ],
   "source": [
    "class Circle:\n",
    "    pi = 3.14\n",
    "    x= 0\n",
    "    y= 0\n",
    "    r= 0\n",
    "    \n",
    "    def area(self):\n",
    "        return self.pi * self.r * self.r\n",
    "    \n",
    "    def circumference(self):\n",
    "        return 2 * self.pi * self.r\n",
    "    \n",
    "    def center(self):\n",
    "        return (self.x, self.y)\n",
    "    \n",
    "    def move(self,x,y):\n",
    "        self.x = x\n",
    "        self.y = y\n",
    "\n",
    "area= Circle()\n",
    "area.x= 2\n",
    "area.y= 4\n",
    "area.r= 3\n",
    "print(f\"넓이 : {area.area()}\")\n",
    "print(f\"둘레 : {area.circumference()}\")\n",
    "print(f\"현재위치 : {area.center()}\")"
   ]
  },
  {
   "cell_type": "markdown",
   "metadata": {},
   "source": [
    "- 반지름이 3이고 x,y 좌표가 (2.4)인 원을 만들어 넓이와 둘레를 출력하세요\n",
    "- 두번째 원을 만들고 x,y좌표를 (5,-5)로 이동시킨 후 첫번째 원과 외접하는 조건의 반지름을 구하시오"
   ]
  },
  {
   "cell_type": "code",
   "execution_count": 36,
   "metadata": {},
   "outputs": [
    {
     "name": "stdout",
     "output_type": "stream",
     "text": [
      "None\n",
      "이동했음 : (5, -5)\n",
      "외접하는 반지름 : 4.0710678118654755\n"
     ]
    }
   ],
   "source": [
    "area2=Circle()\n",
    "area2.x= 0\n",
    "area2.y= 0\n",
    "area2.r= 0\n",
    "print(area2.move(5,-5))\n",
    "print(f\"이동했음 : {area2.center()}\")\n",
    "print(f\"외접하는 반지름 : {((area2.x**2+area.y**2)**0.5)-area.r}\")"
   ]
  }
 ],
 "metadata": {
  "kernelspec": {
   "display_name": "Python 3",
   "language": "python",
   "name": "python3"
  },
  "language_info": {
   "codemirror_mode": {
    "name": "ipython",
    "version": 3
   },
   "file_extension": ".py",
   "mimetype": "text/x-python",
   "name": "python",
   "nbconvert_exporter": "python",
   "pygments_lexer": "ipython3",
   "version": "3.6.7"
  }
 },
 "nbformat": 4,
 "nbformat_minor": 2
}
